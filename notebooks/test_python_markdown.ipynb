{
 "cells": [
  {
   "cell_type": "code",
   "execution_count": 3,
   "metadata": {},
   "outputs": [],
   "source": [
    "import markdown\n",
    "from pathlib import Path"
   ]
  },
  {
   "cell_type": "code",
   "execution_count": 16,
   "metadata": {},
   "outputs": [],
   "source": [
    "curr_path = Path(\".\").absolute()\n",
    "tech_know_path = curr_path.parents[1].joinpath(\"technical_knowledge\")"
   ]
  },
  {
   "cell_type": "code",
   "execution_count": 17,
   "metadata": {},
   "outputs": [],
   "source": [
    "markdown_file = tech_know_path.joinpath('entity_resolution').joinpath('active_learning_large_scale_ER.md')"
   ]
  },
  {
   "cell_type": "code",
   "execution_count": 24,
   "metadata": {},
   "outputs": [],
   "source": [
    "with open(markdown_file, \"r\", encoding=\"utf-8\") as input_file:\n",
    "    markdown_text = input_file.read()"
   ]
  },
  {
   "cell_type": "code",
   "execution_count": 25,
   "metadata": {},
   "outputs": [],
   "source": [
    "html = markdown.markdown(markdown_text)"
   ]
  },
  {
   "cell_type": "code",
   "execution_count": 26,
   "metadata": {},
   "outputs": [],
   "source": [
    "with open(\"output_markdown.html\", \"w\", encoding=\"utf-8\", errors=\"xmlcharrefreplace\") as output_file:\n",
    "    output_file.write(html)"
   ]
  },
  {
   "cell_type": "code",
   "execution_count": 23,
   "metadata": {},
   "outputs": [
    {
     "ename": "TypeError",
     "evalue": "can't concat str to bytes",
     "output_type": "error",
     "traceback": [
      "\u001b[0;31m---------------------------------------------------------------------------\u001b[0m",
      "\u001b[0;31mTypeError\u001b[0m                                 Traceback (most recent call last)",
      "Cell \u001b[0;32mIn[23], line 2\u001b[0m\n\u001b[1;32m      1\u001b[0m \u001b[39mwith\u001b[39;00m \u001b[39mopen\u001b[39m(markdown_file, \u001b[39m'\u001b[39m\u001b[39mr\u001b[39m\u001b[39m'\u001b[39m) \u001b[39mas\u001b[39;00m f:\n\u001b[0;32m----> 2\u001b[0m     markdown\u001b[39m.\u001b[39;49mmarkdownFromFile(\u001b[39minput\u001b[39;49m\u001b[39m=\u001b[39;49mf)\n",
      "File \u001b[0;32m~/opt/anaconda3/envs/py310_nonotes/lib/python3.10/site-packages/markdown/core.py:395\u001b[0m, in \u001b[0;36mmarkdownFromFile\u001b[0;34m(**kwargs)\u001b[0m\n\u001b[1;32m    381\u001b[0m \u001b[39m\u001b[39m\u001b[39m\"\"\"Read markdown code from a file and write it to a file or a stream.\u001b[39;00m\n\u001b[1;32m    382\u001b[0m \n\u001b[1;32m    383\u001b[0m \u001b[39mThis is a shortcut function which initializes an instance of Markdown,\u001b[39;00m\n\u001b[0;32m   (...)\u001b[0m\n\u001b[1;32m    392\u001b[0m \n\u001b[1;32m    393\u001b[0m \u001b[39m\"\"\"\u001b[39;00m\n\u001b[1;32m    394\u001b[0m md \u001b[39m=\u001b[39m Markdown(\u001b[39m*\u001b[39m\u001b[39m*\u001b[39mkwargs)\n\u001b[0;32m--> 395\u001b[0m md\u001b[39m.\u001b[39;49mconvertFile(kwargs\u001b[39m.\u001b[39;49mget(\u001b[39m'\u001b[39;49m\u001b[39minput\u001b[39;49m\u001b[39m'\u001b[39;49m, \u001b[39mNone\u001b[39;49;00m),\n\u001b[1;32m    396\u001b[0m                kwargs\u001b[39m.\u001b[39;49mget(\u001b[39m'\u001b[39;49m\u001b[39moutput\u001b[39;49m\u001b[39m'\u001b[39;49m, \u001b[39mNone\u001b[39;49;00m),\n\u001b[1;32m    397\u001b[0m                kwargs\u001b[39m.\u001b[39;49mget(\u001b[39m'\u001b[39;49m\u001b[39mencoding\u001b[39;49m\u001b[39m'\u001b[39;49m, \u001b[39mNone\u001b[39;49;00m))\n",
      "File \u001b[0;32m~/opt/anaconda3/envs/py310_nonotes/lib/python3.10/site-packages/markdown/core.py:314\u001b[0m, in \u001b[0;36mMarkdown.convertFile\u001b[0;34m(self, input, output, encoding)\u001b[0m\n\u001b[1;32m    312\u001b[0m     \u001b[39melse\u001b[39;00m:\n\u001b[1;32m    313\u001b[0m         input_file \u001b[39m=\u001b[39m codecs\u001b[39m.\u001b[39mgetreader(encoding)(\u001b[39minput\u001b[39m)\n\u001b[0;32m--> 314\u001b[0m     text \u001b[39m=\u001b[39m input_file\u001b[39m.\u001b[39;49mread()\n\u001b[1;32m    315\u001b[0m     input_file\u001b[39m.\u001b[39mclose()\n\u001b[1;32m    316\u001b[0m \u001b[39melse\u001b[39;00m:\n",
      "File \u001b[0;32m~/opt/anaconda3/envs/py310_nonotes/lib/python3.10/codecs.py:500\u001b[0m, in \u001b[0;36mStreamReader.read\u001b[0;34m(self, size, chars, firstline)\u001b[0m\n\u001b[1;32m    498\u001b[0m     newdata \u001b[39m=\u001b[39m \u001b[39mself\u001b[39m\u001b[39m.\u001b[39mstream\u001b[39m.\u001b[39mread(size)\n\u001b[1;32m    499\u001b[0m \u001b[39m# decode bytes (those remaining from the last call included)\u001b[39;00m\n\u001b[0;32m--> 500\u001b[0m data \u001b[39m=\u001b[39m \u001b[39mself\u001b[39;49m\u001b[39m.\u001b[39;49mbytebuffer \u001b[39m+\u001b[39;49m newdata\n\u001b[1;32m    501\u001b[0m \u001b[39mif\u001b[39;00m \u001b[39mnot\u001b[39;00m data:\n\u001b[1;32m    502\u001b[0m     \u001b[39mbreak\u001b[39;00m\n",
      "\u001b[0;31mTypeError\u001b[0m: can't concat str to bytes"
     ]
    }
   ],
   "source": [
    "with open(markdown_file, 'r') as f:\n",
    "    markdown.markdownFromFile(input=f)"
   ]
  },
  {
   "cell_type": "code",
   "execution_count": 18,
   "metadata": {},
   "outputs": [
    {
     "data": {
      "text/plain": [
       "PosixPath('/Users/tdurouchoux/Documents/technical_knowledge/entity_resolution/active_learning_large_scale_ER.md')"
      ]
     },
     "execution_count": 18,
     "metadata": {},
     "output_type": "execute_result"
    }
   ],
   "source": [
    "markdown_file"
   ]
  },
  {
   "cell_type": "code",
   "execution_count": 9,
   "metadata": {},
   "outputs": [
    {
     "data": {
      "text/plain": [
       "PosixPath('/Users/tdurouchoux/Documents/nonotes/notebooks')"
      ]
     },
     "execution_count": 9,
     "metadata": {},
     "output_type": "execute_result"
    }
   ],
   "source": [
    "curr_path"
   ]
  },
  {
   "cell_type": "code",
   "execution_count": null,
   "metadata": {},
   "outputs": [],
   "source": []
  }
 ],
 "metadata": {
  "kernelspec": {
   "display_name": "py310_nonotes",
   "language": "python",
   "name": "python3"
  },
  "language_info": {
   "codemirror_mode": {
    "name": "ipython",
    "version": 3
   },
   "file_extension": ".py",
   "mimetype": "text/x-python",
   "name": "python",
   "nbconvert_exporter": "python",
   "pygments_lexer": "ipython3",
   "version": "3.10.10"
  },
  "orig_nbformat": 4
 },
 "nbformat": 4,
 "nbformat_minor": 2
}
